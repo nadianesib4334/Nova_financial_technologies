{
 "cells": [
  {
   "cell_type": "code",
   "execution_count": 5,
   "id": "a95a8bd9-46c3-471d-88c5-307323e367fa",
   "metadata": {},
   "outputs": [],
   "source": [
    "import pandas as pd\n",
    "import numpy as np\n",
    "import matplotlib.pyplot as plt\n",
    "import seaborn as sns\n",
    "import pandas as pd\n",
    "from nltk.sentiment.vader import SentimentIntensityAnalyzer\n",
    "import nltk\n",
    "from nltk.corpus import stopwords\n",
    "from nltk.tokenize import word_tokenize\n",
    "import string\n",
    "from collections import Counter\n",
    "from nltk.corpus import stopwords\n",
    "#from sklearn.feature_extraction.text import CountVectorizer\n",
    "#import gensim\n",
    "#from gensim import corpora\n",
    "from sklearn.feature_extraction.text import CountVectorizer\n",
    "from collections import Counter\n",
    "from nltk import ngrams"
   ]
  },
  {
   "cell_type": "code",
   "execution_count": 7,
   "id": "f834a014-c8fd-4823-ac12-441ac8c3431a",
   "metadata": {},
   "outputs": [
    {
     "name": "stderr",
     "output_type": "stream",
     "text": [
      "[nltk_data] Downloading package vader_lexicon to\n",
      "[nltk_data]     /Users/nadianesib/nltk_data...\n",
      "[nltk_data]   Package vader_lexicon is already up-to-date!\n"
     ]
    },
    {
     "data": {
      "text/plain": [
       "True"
      ]
     },
     "execution_count": 7,
     "metadata": {},
     "output_type": "execute_result"
    }
   ],
   "source": [
    "nltk.download('vader_lexicon')"
   ]
  },
  {
   "cell_type": "code",
   "execution_count": 9,
   "id": "05ac64b7-0fcb-48ff-af23-5d76958f41fb",
   "metadata": {},
   "outputs": [
    {
     "name": "stderr",
     "output_type": "stream",
     "text": [
      "[nltk_data] Downloading package punkt to\n",
      "[nltk_data]     /Users/nadianesib/nltk_data...\n",
      "[nltk_data]   Package punkt is already up-to-date!\n",
      "[nltk_data] Downloading package stopwords to\n",
      "[nltk_data]     /Users/nadianesib/nltk_data...\n",
      "[nltk_data]   Package stopwords is already up-to-date!\n"
     ]
    },
    {
     "data": {
      "text/plain": [
       "True"
      ]
     },
     "execution_count": 9,
     "metadata": {},
     "output_type": "execute_result"
    }
   ],
   "source": [
    "# download required NLTK datasets\n",
    "nltk.download('punkt')\n",
    "nltk.download('stopwords')"
   ]
  },
  {
   "cell_type": "markdown",
   "id": "a1ddc87e-7ed9-4f24-ad93-d003d160ae63",
   "metadata": {},
   "source": [
    "# Data cleaning"
   ]
  },
  {
   "cell_type": "code",
   "execution_count": 313,
   "id": "8d661941-8668-4776-aa06-735144bb9550",
   "metadata": {},
   "outputs": [],
   "source": [
    "# data uploading\n",
    "data = pd.read_csv('/Users/nadianesib/Desktop/Data/raw_analyst_ratings.csv')"
   ]
  },
  {
   "cell_type": "code",
   "execution_count": 314,
   "id": "6f4a5c5b-ab37-4383-9037-59e28e6b5b1d",
   "metadata": {},
   "outputs": [],
   "source": [
    "# explore the data"
   ]
  },
  {
   "cell_type": "code",
   "execution_count": 315,
   "id": "935c9ba3-7882-45fd-a8b7-bcbe5dd42d65",
   "metadata": {
    "scrolled": true
   },
   "outputs": [
    {
     "data": {
      "text/html": [
       "<div>\n",
       "<style scoped>\n",
       "    .dataframe tbody tr th:only-of-type {\n",
       "        vertical-align: middle;\n",
       "    }\n",
       "\n",
       "    .dataframe tbody tr th {\n",
       "        vertical-align: top;\n",
       "    }\n",
       "\n",
       "    .dataframe thead th {\n",
       "        text-align: right;\n",
       "    }\n",
       "</style>\n",
       "<table border=\"1\" class=\"dataframe\">\n",
       "  <thead>\n",
       "    <tr style=\"text-align: right;\">\n",
       "      <th></th>\n",
       "      <th>Unnamed: 0</th>\n",
       "      <th>headline</th>\n",
       "      <th>url</th>\n",
       "      <th>publisher</th>\n",
       "      <th>date</th>\n",
       "      <th>stock</th>\n",
       "    </tr>\n",
       "  </thead>\n",
       "  <tbody>\n",
       "    <tr>\n",
       "      <th>0</th>\n",
       "      <td>0</td>\n",
       "      <td>Stocks That Hit 52-Week Highs On Friday</td>\n",
       "      <td>https://www.benzinga.com/news/20/06/16190091/s...</td>\n",
       "      <td>Benzinga Insights</td>\n",
       "      <td>2020-06-05 10:30:54-04:00</td>\n",
       "      <td>A</td>\n",
       "    </tr>\n",
       "    <tr>\n",
       "      <th>1</th>\n",
       "      <td>1</td>\n",
       "      <td>Stocks That Hit 52-Week Highs On Wednesday</td>\n",
       "      <td>https://www.benzinga.com/news/20/06/16170189/s...</td>\n",
       "      <td>Benzinga Insights</td>\n",
       "      <td>2020-06-03 10:45:20-04:00</td>\n",
       "      <td>A</td>\n",
       "    </tr>\n",
       "    <tr>\n",
       "      <th>2</th>\n",
       "      <td>2</td>\n",
       "      <td>71 Biggest Movers From Friday</td>\n",
       "      <td>https://www.benzinga.com/news/20/05/16103463/7...</td>\n",
       "      <td>Lisa Levin</td>\n",
       "      <td>2020-05-26 04:30:07-04:00</td>\n",
       "      <td>A</td>\n",
       "    </tr>\n",
       "    <tr>\n",
       "      <th>3</th>\n",
       "      <td>3</td>\n",
       "      <td>46 Stocks Moving In Friday's Mid-Day Session</td>\n",
       "      <td>https://www.benzinga.com/news/20/05/16095921/4...</td>\n",
       "      <td>Lisa Levin</td>\n",
       "      <td>2020-05-22 12:45:06-04:00</td>\n",
       "      <td>A</td>\n",
       "    </tr>\n",
       "    <tr>\n",
       "      <th>4</th>\n",
       "      <td>4</td>\n",
       "      <td>B of A Securities Maintains Neutral on Agilent...</td>\n",
       "      <td>https://www.benzinga.com/news/20/05/16095304/b...</td>\n",
       "      <td>Vick Meyer</td>\n",
       "      <td>2020-05-22 11:38:59-04:00</td>\n",
       "      <td>A</td>\n",
       "    </tr>\n",
       "  </tbody>\n",
       "</table>\n",
       "</div>"
      ],
      "text/plain": [
       "   Unnamed: 0                                           headline  \\\n",
       "0           0            Stocks That Hit 52-Week Highs On Friday   \n",
       "1           1         Stocks That Hit 52-Week Highs On Wednesday   \n",
       "2           2                      71 Biggest Movers From Friday   \n",
       "3           3       46 Stocks Moving In Friday's Mid-Day Session   \n",
       "4           4  B of A Securities Maintains Neutral on Agilent...   \n",
       "\n",
       "                                                 url          publisher  \\\n",
       "0  https://www.benzinga.com/news/20/06/16190091/s...  Benzinga Insights   \n",
       "1  https://www.benzinga.com/news/20/06/16170189/s...  Benzinga Insights   \n",
       "2  https://www.benzinga.com/news/20/05/16103463/7...         Lisa Levin   \n",
       "3  https://www.benzinga.com/news/20/05/16095921/4...         Lisa Levin   \n",
       "4  https://www.benzinga.com/news/20/05/16095304/b...         Vick Meyer   \n",
       "\n",
       "                        date stock  \n",
       "0  2020-06-05 10:30:54-04:00     A  \n",
       "1  2020-06-03 10:45:20-04:00     A  \n",
       "2  2020-05-26 04:30:07-04:00     A  \n",
       "3  2020-05-22 12:45:06-04:00     A  \n",
       "4  2020-05-22 11:38:59-04:00     A  "
      ]
     },
     "execution_count": 315,
     "metadata": {},
     "output_type": "execute_result"
    }
   ],
   "source": [
    "data.head()"
   ]
  },
  {
   "cell_type": "code",
   "execution_count": 319,
   "id": "7190306e-5c51-49f6-9ae2-a39defb3b8db",
   "metadata": {},
   "outputs": [
    {
     "name": "stdout",
     "output_type": "stream",
     "text": [
      "<class 'pandas.core.frame.DataFrame'>\n",
      "RangeIndex: 1407328 entries, 0 to 1407327\n",
      "Data columns (total 6 columns):\n",
      " #   Column      Non-Null Count    Dtype \n",
      "---  ------      --------------    ----- \n",
      " 0   Unnamed: 0  1407328 non-null  int64 \n",
      " 1   headline    1407328 non-null  object\n",
      " 2   url         1407328 non-null  object\n",
      " 3   publisher   1407328 non-null  object\n",
      " 4   date        1407328 non-null  object\n",
      " 5   stock       1407328 non-null  object\n",
      "dtypes: int64(1), object(5)\n",
      "memory usage: 64.4+ MB\n"
     ]
    }
   ],
   "source": [
    "data.info()"
   ]
  },
  {
   "cell_type": "code",
   "execution_count": 321,
   "id": "aa6538f9-ba2f-48b3-ba81-ded496008916",
   "metadata": {},
   "outputs": [
    {
     "data": {
      "text/plain": [
       "(1407328, 6)"
      ]
     },
     "execution_count": 321,
     "metadata": {},
     "output_type": "execute_result"
    }
   ],
   "source": [
    "data.shape #columns and rows of the data"
   ]
  },
  {
   "cell_type": "code",
   "execution_count": 323,
   "id": "f4a06b17-b308-4cc4-9dd1-ad9941e8c5a1",
   "metadata": {},
   "outputs": [
    {
     "data": {
      "text/plain": [
       "Index(['Unnamed: 0', 'headline', 'url', 'publisher', 'date', 'stock'], dtype='object')"
      ]
     },
     "execution_count": 323,
     "metadata": {},
     "output_type": "execute_result"
    }
   ],
   "source": [
    "data.columns"
   ]
  },
  {
   "cell_type": "markdown",
   "id": "41909950-d78a-418f-8534-2eb32ee23122",
   "metadata": {},
   "source": [
    "Handle missing data"
   ]
  },
  {
   "cell_type": "code",
   "execution_count": 326,
   "id": "01221fd8-c951-4605-adec-a2ad0de760f7",
   "metadata": {},
   "outputs": [
    {
     "data": {
      "text/plain": [
       "Unnamed: 0    0\n",
       "headline      0\n",
       "url           0\n",
       "publisher     0\n",
       "date          0\n",
       "stock         0\n",
       "dtype: int64"
      ]
     },
     "execution_count": 326,
     "metadata": {},
     "output_type": "execute_result"
    }
   ],
   "source": [
    "# identify missing value\n",
    "data.isnull().sum()"
   ]
  },
  {
   "cell_type": "code",
   "execution_count": 328,
   "id": "6fc172d4-959c-4ae4-802c-c7aef5eca909",
   "metadata": {},
   "outputs": [],
   "source": [
    "data = data.drop('Unnamed: 0', axis=1) #deleting unnecessary columns"
   ]
  },
  {
   "cell_type": "code",
   "execution_count": 334,
   "id": "9fd3c42c-52ea-4818-929b-6d646901cc9f",
   "metadata": {},
   "outputs": [],
   "source": [
    "data['date'] = pd.to_datetime(data['date'], format='mixed', utc=True)"
   ]
  },
  {
   "cell_type": "code",
   "execution_count": 332,
   "id": "f45f4592-3bd5-40ac-a0f7-5aaf8f86fe6c",
   "metadata": {},
   "outputs": [
    {
     "data": {
      "text/plain": [
       "headline                  object\n",
       "url                       object\n",
       "publisher                 object\n",
       "date         datetime64[ns, UTC]\n",
       "stock                     object\n",
       "dtype: object"
      ]
     },
     "execution_count": 332,
     "metadata": {},
     "output_type": "execute_result"
    }
   ],
   "source": [
    "data.dtypes"
   ]
  },
  {
   "cell_type": "code",
   "execution_count": 249,
   "id": "e7df0456-566a-4901-9fb1-fcea74faa7cd",
   "metadata": {},
   "outputs": [
    {
     "data": {
      "text/html": [
       "<div>\n",
       "<style scoped>\n",
       "    .dataframe tbody tr th:only-of-type {\n",
       "        vertical-align: middle;\n",
       "    }\n",
       "\n",
       "    .dataframe tbody tr th {\n",
       "        vertical-align: top;\n",
       "    }\n",
       "\n",
       "    .dataframe thead th {\n",
       "        text-align: right;\n",
       "    }\n",
       "</style>\n",
       "<table border=\"1\" class=\"dataframe\">\n",
       "  <thead>\n",
       "    <tr style=\"text-align: right;\">\n",
       "      <th></th>\n",
       "      <th>headline</th>\n",
       "      <th>url</th>\n",
       "      <th>publisher</th>\n",
       "      <th>date</th>\n",
       "      <th>stock</th>\n",
       "    </tr>\n",
       "  </thead>\n",
       "  <tbody>\n",
       "    <tr>\n",
       "      <th>0</th>\n",
       "      <td>Stocks That Hit 52-Week Highs On Friday</td>\n",
       "      <td>https://www.benzinga.com/news/20/06/16190091/s...</td>\n",
       "      <td>Benzinga Insights</td>\n",
       "      <td>2020-06-05 14:30:54+00:00</td>\n",
       "      <td>A</td>\n",
       "    </tr>\n",
       "    <tr>\n",
       "      <th>1</th>\n",
       "      <td>Stocks That Hit 52-Week Highs On Wednesday</td>\n",
       "      <td>https://www.benzinga.com/news/20/06/16170189/s...</td>\n",
       "      <td>Benzinga Insights</td>\n",
       "      <td>2020-06-03 14:45:20+00:00</td>\n",
       "      <td>A</td>\n",
       "    </tr>\n",
       "    <tr>\n",
       "      <th>2</th>\n",
       "      <td>71 Biggest Movers From Friday</td>\n",
       "      <td>https://www.benzinga.com/news/20/05/16103463/7...</td>\n",
       "      <td>Lisa Levin</td>\n",
       "      <td>2020-05-26 08:30:07+00:00</td>\n",
       "      <td>A</td>\n",
       "    </tr>\n",
       "    <tr>\n",
       "      <th>3</th>\n",
       "      <td>46 Stocks Moving In Friday's Mid-Day Session</td>\n",
       "      <td>https://www.benzinga.com/news/20/05/16095921/4...</td>\n",
       "      <td>Lisa Levin</td>\n",
       "      <td>2020-05-22 16:45:06+00:00</td>\n",
       "      <td>A</td>\n",
       "    </tr>\n",
       "    <tr>\n",
       "      <th>4</th>\n",
       "      <td>B of A Securities Maintains Neutral on Agilent...</td>\n",
       "      <td>https://www.benzinga.com/news/20/05/16095304/b...</td>\n",
       "      <td>Vick Meyer</td>\n",
       "      <td>2020-05-22 15:38:59+00:00</td>\n",
       "      <td>A</td>\n",
       "    </tr>\n",
       "    <tr>\n",
       "      <th>...</th>\n",
       "      <td>...</td>\n",
       "      <td>...</td>\n",
       "      <td>...</td>\n",
       "      <td>...</td>\n",
       "      <td>...</td>\n",
       "    </tr>\n",
       "    <tr>\n",
       "      <th>1407323</th>\n",
       "      <td>Top Narrow Based Indexes For August 29</td>\n",
       "      <td>https://www.benzinga.com/news/11/08/1888782/to...</td>\n",
       "      <td>Monica Gerson</td>\n",
       "      <td>2011-08-29 00:00:00+00:00</td>\n",
       "      <td>ZX</td>\n",
       "    </tr>\n",
       "    <tr>\n",
       "      <th>1407324</th>\n",
       "      <td>Recap: Wednesday's Top Percentage Gainers and ...</td>\n",
       "      <td>https://www.benzinga.com/news/earnings/11/06/1...</td>\n",
       "      <td>Benjamin Lee</td>\n",
       "      <td>2011-06-22 00:00:00+00:00</td>\n",
       "      <td>ZX</td>\n",
       "    </tr>\n",
       "    <tr>\n",
       "      <th>1407325</th>\n",
       "      <td>UPDATE: Oppenheimer Color on China Zenix Auto ...</td>\n",
       "      <td>https://www.benzinga.com/analyst-ratings/analy...</td>\n",
       "      <td>BenzingaStaffL</td>\n",
       "      <td>2011-06-21 00:00:00+00:00</td>\n",
       "      <td>ZX</td>\n",
       "    </tr>\n",
       "    <tr>\n",
       "      <th>1407326</th>\n",
       "      <td>Oppenheimer Initiates China Zenix At Outperfor...</td>\n",
       "      <td>https://www.benzinga.com/analyst-ratings/price...</td>\n",
       "      <td>Joe Young</td>\n",
       "      <td>2011-06-21 00:00:00+00:00</td>\n",
       "      <td>ZX</td>\n",
       "    </tr>\n",
       "    <tr>\n",
       "      <th>1407327</th>\n",
       "      <td>China Zenix Auto International Opens For Tradi...</td>\n",
       "      <td>https://www.benzinga.com/news/ipos/11/05/10789...</td>\n",
       "      <td>Allie Wickman</td>\n",
       "      <td>2011-05-12 00:00:00+00:00</td>\n",
       "      <td>ZX</td>\n",
       "    </tr>\n",
       "  </tbody>\n",
       "</table>\n",
       "<p>1407327 rows × 5 columns</p>\n",
       "</div>"
      ],
      "text/plain": [
       "                                                  headline  \\\n",
       "0                  Stocks That Hit 52-Week Highs On Friday   \n",
       "1               Stocks That Hit 52-Week Highs On Wednesday   \n",
       "2                            71 Biggest Movers From Friday   \n",
       "3             46 Stocks Moving In Friday's Mid-Day Session   \n",
       "4        B of A Securities Maintains Neutral on Agilent...   \n",
       "...                                                    ...   \n",
       "1407323             Top Narrow Based Indexes For August 29   \n",
       "1407324  Recap: Wednesday's Top Percentage Gainers and ...   \n",
       "1407325  UPDATE: Oppenheimer Color on China Zenix Auto ...   \n",
       "1407326  Oppenheimer Initiates China Zenix At Outperfor...   \n",
       "1407327  China Zenix Auto International Opens For Tradi...   \n",
       "\n",
       "                                                       url          publisher  \\\n",
       "0        https://www.benzinga.com/news/20/06/16190091/s...  Benzinga Insights   \n",
       "1        https://www.benzinga.com/news/20/06/16170189/s...  Benzinga Insights   \n",
       "2        https://www.benzinga.com/news/20/05/16103463/7...         Lisa Levin   \n",
       "3        https://www.benzinga.com/news/20/05/16095921/4...         Lisa Levin   \n",
       "4        https://www.benzinga.com/news/20/05/16095304/b...         Vick Meyer   \n",
       "...                                                    ...                ...   \n",
       "1407323  https://www.benzinga.com/news/11/08/1888782/to...      Monica Gerson   \n",
       "1407324  https://www.benzinga.com/news/earnings/11/06/1...       Benjamin Lee   \n",
       "1407325  https://www.benzinga.com/analyst-ratings/analy...     BenzingaStaffL   \n",
       "1407326  https://www.benzinga.com/analyst-ratings/price...          Joe Young   \n",
       "1407327  https://www.benzinga.com/news/ipos/11/05/10789...      Allie Wickman   \n",
       "\n",
       "                             date stock  \n",
       "0       2020-06-05 14:30:54+00:00     A  \n",
       "1       2020-06-03 14:45:20+00:00     A  \n",
       "2       2020-05-26 08:30:07+00:00     A  \n",
       "3       2020-05-22 16:45:06+00:00     A  \n",
       "4       2020-05-22 15:38:59+00:00     A  \n",
       "...                           ...   ...  \n",
       "1407323 2011-08-29 00:00:00+00:00    ZX  \n",
       "1407324 2011-06-22 00:00:00+00:00    ZX  \n",
       "1407325 2011-06-21 00:00:00+00:00    ZX  \n",
       "1407326 2011-06-21 00:00:00+00:00    ZX  \n",
       "1407327 2011-05-12 00:00:00+00:00    ZX  \n",
       "\n",
       "[1407327 rows x 5 columns]"
      ]
     },
     "execution_count": 249,
     "metadata": {},
     "output_type": "execute_result"
    }
   ],
   "source": [
    "data.drop_duplicates()"
   ]
  },
  {
   "cell_type": "markdown",
   "id": "325e8a06-7067-4b52-a75e-b043d8d7e4ab",
   "metadata": {},
   "source": [
    "# Descriptive anaalysis"
   ]
  },
  {
   "cell_type": "code",
   "execution_count": 252,
   "id": "a2ad3b60-c6e5-42ec-9000-a92cd3680992",
   "metadata": {},
   "outputs": [],
   "source": [
    "#used to summarize and describe the basic features of a dataset"
   ]
  },
  {
   "cell_type": "code",
   "execution_count": 254,
   "id": "e0c52c13-50f9-4910-87a4-e18a20814a30",
   "metadata": {},
   "outputs": [],
   "source": [
    "# explore data distribution"
   ]
  },
  {
   "cell_type": "code",
   "execution_count": 256,
   "id": "0e408774-b2b9-43f4-ab65-0353c3b2979f",
   "metadata": {},
   "outputs": [
    {
     "data": {
      "text/html": [
       "<div>\n",
       "<style scoped>\n",
       "    .dataframe tbody tr th:only-of-type {\n",
       "        vertical-align: middle;\n",
       "    }\n",
       "\n",
       "    .dataframe tbody tr th {\n",
       "        vertical-align: top;\n",
       "    }\n",
       "\n",
       "    .dataframe thead th {\n",
       "        text-align: right;\n",
       "    }\n",
       "</style>\n",
       "<table border=\"1\" class=\"dataframe\">\n",
       "  <thead>\n",
       "    <tr style=\"text-align: right;\">\n",
       "      <th></th>\n",
       "      <th>headline</th>\n",
       "      <th>url</th>\n",
       "      <th>publisher</th>\n",
       "      <th>date</th>\n",
       "      <th>stock</th>\n",
       "    </tr>\n",
       "  </thead>\n",
       "  <tbody>\n",
       "    <tr>\n",
       "      <th>count</th>\n",
       "      <td>1407328</td>\n",
       "      <td>1407328</td>\n",
       "      <td>1407328</td>\n",
       "      <td>1407328</td>\n",
       "      <td>1407328</td>\n",
       "    </tr>\n",
       "    <tr>\n",
       "      <th>unique</th>\n",
       "      <td>845770</td>\n",
       "      <td>883429</td>\n",
       "      <td>1034</td>\n",
       "      <td>NaN</td>\n",
       "      <td>6204</td>\n",
       "    </tr>\n",
       "    <tr>\n",
       "      <th>top</th>\n",
       "      <td>Benzinga's Top Upgrades</td>\n",
       "      <td>https://www.benzinga.com/news/20/03/15538835/s...</td>\n",
       "      <td>Paul Quintaro</td>\n",
       "      <td>NaN</td>\n",
       "      <td>MRK</td>\n",
       "    </tr>\n",
       "    <tr>\n",
       "      <th>freq</th>\n",
       "      <td>5449</td>\n",
       "      <td>1704</td>\n",
       "      <td>228373</td>\n",
       "      <td>NaN</td>\n",
       "      <td>3333</td>\n",
       "    </tr>\n",
       "    <tr>\n",
       "      <th>mean</th>\n",
       "      <td>NaN</td>\n",
       "      <td>NaN</td>\n",
       "      <td>NaN</td>\n",
       "      <td>2015-08-22 01:54:11.875360256+00:00</td>\n",
       "      <td>NaN</td>\n",
       "    </tr>\n",
       "    <tr>\n",
       "      <th>min</th>\n",
       "      <td>NaN</td>\n",
       "      <td>NaN</td>\n",
       "      <td>NaN</td>\n",
       "      <td>2009-02-14 00:00:00+00:00</td>\n",
       "      <td>NaN</td>\n",
       "    </tr>\n",
       "    <tr>\n",
       "      <th>25%</th>\n",
       "      <td>NaN</td>\n",
       "      <td>NaN</td>\n",
       "      <td>NaN</td>\n",
       "      <td>2013-01-16 00:00:00+00:00</td>\n",
       "      <td>NaN</td>\n",
       "    </tr>\n",
       "    <tr>\n",
       "      <th>50%</th>\n",
       "      <td>NaN</td>\n",
       "      <td>NaN</td>\n",
       "      <td>NaN</td>\n",
       "      <td>2015-09-23 00:00:00+00:00</td>\n",
       "      <td>NaN</td>\n",
       "    </tr>\n",
       "    <tr>\n",
       "      <th>75%</th>\n",
       "      <td>NaN</td>\n",
       "      <td>NaN</td>\n",
       "      <td>NaN</td>\n",
       "      <td>2018-05-21 00:00:00+00:00</td>\n",
       "      <td>NaN</td>\n",
       "    </tr>\n",
       "    <tr>\n",
       "      <th>max</th>\n",
       "      <td>NaN</td>\n",
       "      <td>NaN</td>\n",
       "      <td>NaN</td>\n",
       "      <td>2020-06-11 21:12:35+00:00</td>\n",
       "      <td>NaN</td>\n",
       "    </tr>\n",
       "  </tbody>\n",
       "</table>\n",
       "</div>"
      ],
      "text/plain": [
       "                       headline  \\\n",
       "count                   1407328   \n",
       "unique                   845770   \n",
       "top     Benzinga's Top Upgrades   \n",
       "freq                       5449   \n",
       "mean                        NaN   \n",
       "min                         NaN   \n",
       "25%                         NaN   \n",
       "50%                         NaN   \n",
       "75%                         NaN   \n",
       "max                         NaN   \n",
       "\n",
       "                                                      url      publisher  \\\n",
       "count                                             1407328        1407328   \n",
       "unique                                             883429           1034   \n",
       "top     https://www.benzinga.com/news/20/03/15538835/s...  Paul Quintaro   \n",
       "freq                                                 1704         228373   \n",
       "mean                                                  NaN            NaN   \n",
       "min                                                   NaN            NaN   \n",
       "25%                                                   NaN            NaN   \n",
       "50%                                                   NaN            NaN   \n",
       "75%                                                   NaN            NaN   \n",
       "max                                                   NaN            NaN   \n",
       "\n",
       "                                       date    stock  \n",
       "count                               1407328  1407328  \n",
       "unique                                  NaN     6204  \n",
       "top                                     NaN      MRK  \n",
       "freq                                    NaN     3333  \n",
       "mean    2015-08-22 01:54:11.875360256+00:00      NaN  \n",
       "min               2009-02-14 00:00:00+00:00      NaN  \n",
       "25%               2013-01-16 00:00:00+00:00      NaN  \n",
       "50%               2015-09-23 00:00:00+00:00      NaN  \n",
       "75%               2018-05-21 00:00:00+00:00      NaN  \n",
       "max               2020-06-11 21:12:35+00:00      NaN  "
      ]
     },
     "execution_count": 256,
     "metadata": {},
     "output_type": "execute_result"
    }
   ],
   "source": [
    "data.describe()"
   ]
  },
  {
   "cell_type": "code",
   "execution_count": 257,
   "id": "fcde1ccd-a837-4553-a7c3-7e74d2b99888",
   "metadata": {},
   "outputs": [
    {
     "data": {
      "text/plain": [
       "headline\n",
       "Benzinga's Top Upgrades                                                                                                                 5449\n",
       "Benzinga's Top Downgrades                                                                                                               5372\n",
       "Benzinga's Top Initiations                                                                                                              4241\n",
       "Stocks That Hit 52-Week Lows On Thursday                                                                                                3962\n",
       "Morning Market Losers                                                                                                                   3440\n",
       "                                                                                                                                        ... \n",
       "FireEye Option Alert: Oct 18 $14 Calls at the Ask: 500 @ $0.641 vs 30793 OI; Earnings 10/29 After Close [est] Ref=$13.8                    1\n",
       "FireEye shares are trading higher following unconfirmed rumors indicating the company has has hired Goldman Sachs to explore a sale.       1\n",
       "FireEye Shares Resume Trade                                                                                                                1\n",
       "FireEye Share Spike, Hearing Co. Has Hired Goldman Sachs To Advise On A Potential Sale; Unconfirmed                                        1\n",
       "China Zenix Auto International Opens For Trading at $6.00; IPO Price Set at $6.00                                                          1\n",
       "Name: count, Length: 845770, dtype: int64"
      ]
     },
     "execution_count": 257,
     "metadata": {},
     "output_type": "execute_result"
    }
   ],
   "source": [
    "# Frequency counts for a categorical column or counts per column\n",
    "data['headline'].value_counts()"
   ]
  },
  {
   "cell_type": "code",
   "execution_count": 260,
   "id": "5db7740b-9375-42ef-89e2-dbf6568462cb",
   "metadata": {},
   "outputs": [
    {
     "data": {
      "text/plain": [
       "date\n",
       "2020-03-12 00:00:00+00:00    1766\n",
       "2020-02-27 00:00:00+00:00    1292\n",
       "2020-02-28 00:00:00+00:00    1239\n",
       "2019-08-01 00:00:00+00:00    1228\n",
       "2020-03-06 00:00:00+00:00    1147\n",
       "                             ... \n",
       "2016-05-27 18:31:02+00:00       1\n",
       "2016-05-31 00:24:29+00:00       1\n",
       "2016-05-31 08:40:26+00:00       1\n",
       "2016-05-31 10:12:15+00:00       1\n",
       "2017-11-14 17:25:57+00:00       1\n",
       "Name: count, Length: 39956, dtype: int64"
      ]
     },
     "execution_count": 260,
     "metadata": {},
     "output_type": "execute_result"
    }
   ],
   "source": [
    "data['date'].value_counts()"
   ]
  },
  {
   "cell_type": "code",
   "execution_count": 262,
   "id": "10b3c411-a2c3-4a00-babe-b0e3ad2be3b9",
   "metadata": {},
   "outputs": [
    {
     "data": {
      "text/plain": [
       "publisher\n",
       "Paul Quintaro                      228373\n",
       "Lisa Levin                         186979\n",
       "Benzinga Newsdesk                  150484\n",
       "Charles Gross                       96732\n",
       "Monica Gerson                       82380\n",
       "                                    ...  \n",
       "Shazir Mucklai - Imperium Group         1\n",
       "Laura Jennings                          1\n",
       "Eric Martin                             1\n",
       "Jose Rodrigo                            1\n",
       "Jeremie Capron                          1\n",
       "Name: count, Length: 1034, dtype: int64"
      ]
     },
     "execution_count": 262,
     "metadata": {},
     "output_type": "execute_result"
    }
   ],
   "source": [
    "# Frequency counts for a categorical column\n",
    "data['publisher'].value_counts()"
   ]
  },
  {
   "cell_type": "code",
   "execution_count": 264,
   "id": "69b24bcd-1b68-4b62-a856-743bd911824d",
   "metadata": {},
   "outputs": [
    {
     "data": {
      "text/plain": [
       "url\n",
       "https://www.benzinga.com/news/20/03/15538835/stocks-that-hit-52-week-lows-on-thursday                                            1704\n",
       "https://www.benzinga.com/news/20/03/15607641/stocks-that-hit-52-week-lows-on-thursday                                             754\n",
       "https://www.benzinga.com/news/20/02/15441854/stocks-that-hit-52-week-lows-on-friday                                               714\n",
       "https://www.benzinga.com/news/20/03/15498904/stocks-that-hit-52-week-lows-on-friday                                               624\n",
       "https://www.benzinga.com/news/20/02/15429529/stocks-that-hit-52-week-lows-on-thursday                                             562\n",
       "                                                                                                                                 ... \n",
       "https://www.benzinga.com/news/earnings/14/07/4694703/frequency-electronics-inc-reports-q4-eps-of-0-09-which-may-not-compare-0       1\n",
       "https://www.benzinga.com/news/14/06/4663503/frequency-electronics-announces-satellite-contract-worth-over-11m                       1\n",
       "https://www.benzinga.com/news/earnings/14/03/4378905/frequency-electronics-inc-reports-q3-eps-of-0-14-vs-0-11-est-revenue-of-       1\n",
       "https://www.benzinga.com/news/earnings/13/12/4147908/frequency-electronics-inc-reports-q2-eps-of-0-16-vs-0-11-est                   1\n",
       "https://www.benzinga.com/news/ipos/11/05/1078911/china-zenix-auto-international-opens-for-trading-at-6-00-ipo-price-set-at-6-       1\n",
       "Name: count, Length: 883429, dtype: int64"
      ]
     },
     "execution_count": 264,
     "metadata": {},
     "output_type": "execute_result"
    }
   ],
   "source": [
    "# Frequency counts for a categorical column\n",
    "data['url'].value_counts()"
   ]
  },
  {
   "cell_type": "code",
   "execution_count": 265,
   "id": "653a8d4d-7dd5-43d8-8a35-2a5a21036a36",
   "metadata": {},
   "outputs": [
    {
     "data": {
      "text/html": [
       "<div>\n",
       "<style scoped>\n",
       "    .dataframe tbody tr th:only-of-type {\n",
       "        vertical-align: middle;\n",
       "    }\n",
       "\n",
       "    .dataframe tbody tr th {\n",
       "        vertical-align: top;\n",
       "    }\n",
       "\n",
       "    .dataframe thead th {\n",
       "        text-align: right;\n",
       "    }\n",
       "</style>\n",
       "<table border=\"1\" class=\"dataframe\">\n",
       "  <thead>\n",
       "    <tr style=\"text-align: right;\">\n",
       "      <th></th>\n",
       "      <th>headline</th>\n",
       "      <th>url</th>\n",
       "      <th>publisher</th>\n",
       "      <th>date</th>\n",
       "      <th>stock</th>\n",
       "    </tr>\n",
       "  </thead>\n",
       "  <tbody>\n",
       "    <tr>\n",
       "      <th>0</th>\n",
       "      <td>Benzinga's Top Upgrades</td>\n",
       "      <td>https://www.benzinga.com/news/20/03/15538835/s...</td>\n",
       "      <td>Paul Quintaro</td>\n",
       "      <td>2020-03-12 00:00:00+00:00</td>\n",
       "      <td>MRK</td>\n",
       "    </tr>\n",
       "  </tbody>\n",
       "</table>\n",
       "</div>"
      ],
      "text/plain": [
       "                  headline                                                url  \\\n",
       "0  Benzinga's Top Upgrades  https://www.benzinga.com/news/20/03/15538835/s...   \n",
       "\n",
       "       publisher                      date stock  \n",
       "0  Paul Quintaro 2020-03-12 00:00:00+00:00   MRK  "
      ]
     },
     "execution_count": 265,
     "metadata": {},
     "output_type": "execute_result"
    }
   ],
   "source": [
    "data.mode() #The most frequent value in the dataset."
   ]
  },
  {
   "cell_type": "code",
   "execution_count": 267,
   "id": "7bf9194e-44c4-4e64-ae02-c06772a2a1c6",
   "metadata": {},
   "outputs": [],
   "source": [
    "#calculate text length\n",
    "# Calculate the length of each headline\n",
    "data['headline'] = data['headline'].str.len()"
   ]
  },
  {
   "cell_type": "code",
   "execution_count": 269,
   "id": "8673f6da-e97b-40f4-bc72-0bae85e4b8a7",
   "metadata": {},
   "outputs": [
    {
     "data": {
      "text/plain": [
       "0          39\n",
       "1          42\n",
       "2          29\n",
       "3          44\n",
       "4          87\n",
       "           ..\n",
       "1407323    38\n",
       "1407324    52\n",
       "1407325    56\n",
       "1407326    54\n",
       "1407327    81\n",
       "Name: headline, Length: 1407328, dtype: int64"
      ]
     },
     "execution_count": 269,
     "metadata": {},
     "output_type": "execute_result"
    }
   ],
   "source": [
    "data.headline"
   ]
  },
  {
   "cell_type": "code",
   "execution_count": 272,
   "id": "e2dc7e85-5d2a-4446-bf20-b8a108b70350",
   "metadata": {},
   "outputs": [],
   "source": [
    "# Basic descriptive statistics for headline lengths\n",
    "headline_stats = data['headline'].describe()"
   ]
  },
  {
   "cell_type": "code",
   "execution_count": 274,
   "id": "6709a0fe-c632-43ea-8ff0-4c74c41be9bf",
   "metadata": {},
   "outputs": [
    {
     "data": {
      "text/plain": [
       "count    1.407328e+06\n",
       "mean     7.312051e+01\n",
       "std      4.073531e+01\n",
       "min      3.000000e+00\n",
       "25%      4.700000e+01\n",
       "50%      6.400000e+01\n",
       "75%      8.700000e+01\n",
       "max      5.120000e+02\n",
       "Name: headline, dtype: float64"
      ]
     },
     "execution_count": 274,
     "metadata": {},
     "output_type": "execute_result"
    }
   ],
   "source": [
    "data.headline.describe()"
   ]
  },
  {
   "cell_type": "code",
   "execution_count": 276,
   "id": "93d95d6f-de8f-41ab-af42-99fa43b8d2c1",
   "metadata": {},
   "outputs": [
    {
     "name": "stdout",
     "output_type": "stream",
     "text": [
      "Median Length: 64.0\n"
     ]
    }
   ],
   "source": [
    "median_length = data['headline'].median() # middle value of lengths\n",
    "print(\"Median Length:\", median_length)"
   ]
  },
  {
   "cell_type": "code",
   "execution_count": 278,
   "id": "d7b375e0-5aae-4c88-bdac-46421cd0857c",
   "metadata": {},
   "outputs": [
    {
     "name": "stdout",
     "output_type": "stream",
     "text": [
      "Mode Length: 47\n"
     ]
    }
   ],
   "source": [
    "mode_length = data['headline'].mode()[0] # most frequent lengths\n",
    "print(\"Mode Length:\", mode_length)"
   ]
  },
  {
   "cell_type": "code",
   "execution_count": 280,
   "id": "811cbfc2-51bd-4996-87af-75dc73ed2b87",
   "metadata": {},
   "outputs": [
    {
     "name": "stdout",
     "output_type": "stream",
     "text": [
      "Variance Length: 1659.3654752503999\n"
     ]
    }
   ],
   "source": [
    "variance_length = data['headline'].var() # variance of headline lengths\n",
    "print(\"Variance Length:\", variance_length)"
   ]
  },
  {
   "cell_type": "code",
   "execution_count": 282,
   "id": "63f261af-1a20-4e68-b55e-621e1329eb89",
   "metadata": {},
   "outputs": [
    {
     "name": "stdout",
     "output_type": "stream",
     "text": [
      "Standard Deviation Length: 40.73530993193006\n"
     ]
    }
   ],
   "source": [
    "std_dev_length = data['headline'].std() # standard deviation of headline lengths\n",
    "print(\"Standard Deviation Length:\", std_dev_length)"
   ]
  },
  {
   "cell_type": "code",
   "execution_count": 284,
   "id": "3443082d-d879-4d6d-b597-e8f179c2f652",
   "metadata": {},
   "outputs": [
    {
     "data": {
      "image/png": "[encoded data removed]",
      "text/plain": [
       "<Figure size 640x480 with 1 Axes>"
      ]
     },
     "metadata": {},
     "output_type": "display_data"
    }
   ],
   "source": [
    "data['headline'].hist(bins=10) #shows the frequency distribution of headline lengths\n",
    "plt.xlabel('Length')\n",
    "plt.ylabel('Frequency')\n",
    "plt.show()\n"
   ]
  },
  {
   "cell_type": "code",
   "execution_count": 286,
   "id": "f151223c-cff4-4ca7-b7ba-f871d8189eb7",
   "metadata": {},
   "outputs": [
    {
     "data": {
      "image/png": "[encoded data removed]",
      "text/plain": [
       "<Figure size 640x480 with 1 Axes>"
      ]
     },
     "metadata": {},
     "output_type": "display_data"
    }
   ],
   "source": [
    "sns.boxplot(data['headline']) #displays the distribution and highlights any outliers\n",
    "plt.xlabel('Length')\n",
    "plt.show()\n"
   ]
  },
  {
   "cell_type": "code",
   "execution_count": 287,
   "id": "2e28926b-d8f7-45e5-aa5c-35e4da82dfd1",
   "metadata": {
    "scrolled": true
   },
   "outputs": [
    {
     "data": {
      "text/plain": [
       "date\n",
       "2009-02-14 00:00:00+00:00       1\n",
       "2009-04-27 00:00:00+00:00       2\n",
       "2009-04-29 00:00:00+00:00       1\n",
       "2009-05-22 00:00:00+00:00       1\n",
       "2009-05-27 00:00:00+00:00       6\n",
       "2009-05-29 00:00:00+00:00       2\n",
       "2009-05-30 00:00:00+00:00       3\n",
       "2009-06-01 00:00:00+00:00       5\n",
       "2009-06-02 00:00:00+00:00       2\n",
       "2009-06-05 00:00:00+00:00       6\n",
       "2009-06-08 00:00:00+00:00       3\n",
       "2009-06-09 00:00:00+00:00       7\n",
       "2009-06-15 00:00:00+00:00       3\n",
       "2009-06-16 00:00:00+00:00       3\n",
       "2009-06-19 00:00:00+00:00       5\n",
       "2009-06-22 00:00:00+00:00       1\n",
       "2009-06-28 00:00:00+00:00       2\n",
       "2009-06-30 00:00:00+00:00       3\n",
       "2009-07-07 00:00:00+00:00       2\n",
       "2009-07-08 00:00:00+00:00       2\n",
       "2009-07-10 00:00:00+00:00       1\n",
       "2009-07-14 00:00:00+00:00       3\n",
       "2009-07-15 00:00:00+00:00       2\n",
       "2009-07-16 00:00:00+00:00       1\n",
       "2009-07-17 00:00:00+00:00       1\n",
       "2009-07-21 00:00:00+00:00       7\n",
       "2009-07-24 00:00:00+00:00       1\n",
       "2009-07-27 00:00:00+00:00      54\n",
       "2009-07-30 00:00:00+00:00       1\n",
       "2009-08-01 00:00:00+00:00       1\n",
       "2009-08-03 00:00:00+00:00       1\n",
       "2009-08-04 00:00:00+00:00       7\n",
       "2009-08-06 00:00:00+00:00      49\n",
       "2009-08-07 00:00:00+00:00     644\n",
       "2009-08-08 00:00:00+00:00       7\n",
       "2009-08-09 00:00:00+00:00      35\n",
       "2009-08-10 00:00:00+00:00    1130\n",
       "2009-08-11 00:00:00+00:00      48\n",
       "2009-08-12 00:00:00+00:00     532\n",
       "2009-08-13 00:00:00+00:00     651\n",
       "2009-08-16 00:00:00+00:00     105\n",
       "2009-08-17 00:00:00+00:00     158\n",
       "2009-08-18 00:00:00+00:00       6\n",
       "2009-08-19 00:00:00+00:00       3\n",
       "2009-08-21 00:00:00+00:00       7\n",
       "2009-08-22 00:00:00+00:00       4\n",
       "2009-08-23 00:00:00+00:00       6\n",
       "2009-08-24 00:00:00+00:00       9\n",
       "2009-08-25 00:00:00+00:00      38\n",
       "2009-08-26 00:00:00+00:00      20\n",
       "Name: count, dtype: int64"
      ]
     },
     "execution_count": 287,
     "metadata": {},
     "output_type": "execute_result"
    }
   ],
   "source": [
    "# trends over time daily\n",
    "# count articles per day\n",
    "daily_counts = data['date'].value_counts().sort_index()\n",
    "daily_counts.head(50)"
   ]
  },
  {
   "cell_type": "code",
   "execution_count": 288,
   "id": "ac86acd3-ab36-4316-8f19-68ba82e4ad13",
   "metadata": {},
   "outputs": [
    {
     "data": {
      "text/plain": [
       "1766"
      ]
     },
     "execution_count": 288,
     "metadata": {},
     "output_type": "execute_result"
    }
   ],
   "source": [
    "daily_counts.max()"
   ]
  },
  {
   "cell_type": "code",
   "execution_count": 289,
   "id": "ae39797d-8a37-4bb3-bb05-a8418a2891b0",
   "metadata": {},
   "outputs": [
    {
     "data": {
      "text/plain": [
       "1"
      ]
     },
     "execution_count": 289,
     "metadata": {},
     "output_type": "execute_result"
    }
   ],
   "source": [
    "daily_counts.min()"
   ]
  },
  {
   "cell_type": "code",
   "execution_count": 294,
   "id": "8cd33808-663c-4e4e-942f-77f42ecf8c55",
   "metadata": {},
   "outputs": [
    {
     "data": {
      "image/png": "[encoded data removed]",
      "text/plain": [
       "<Figure size 600x600 with 1 Axes>"
      ]
     },
     "metadata": {},
     "output_type": "display_data"
    }
   ],
   "source": [
    "# Plot daily publication counts\n",
    "plt.figure(figsize=(6, 6))\n",
    "daily_counts.plot(kind='line')\n",
    "plt.xlabel('date')\n",
    "plt.ylabel('number of Articles')\n",
    "plt.grid(True)\n",
    "plt.show()\n"
   ]
  },
  {
   "cell_type": "code",
   "execution_count": 296,
   "id": "9960d6b1-a7e3-485d-bfc4-aa7153d7a206",
   "metadata": {},
   "outputs": [],
   "source": [
    "data['publication_date'] = pd.to_datetime(data['date']) #this will make sure that date column as the index of Dataset.\n",
    "data.set_index('date', inplace=True)"
   ]
  },
  {
   "cell_type": "code",
   "execution_count": 298,
   "id": "9e8ff746-ae7c-451c-9c12-f54379107f56",
   "metadata": {
    "scrolled": true
   },
   "outputs": [
    {
     "data": {
      "text/plain": [
       "date\n",
       "2009-02-15 00:00:00+00:00       1\n",
       "2009-02-22 00:00:00+00:00       0\n",
       "2009-03-01 00:00:00+00:00       0\n",
       "2009-03-08 00:00:00+00:00       0\n",
       "2009-03-15 00:00:00+00:00       0\n",
       "2009-03-22 00:00:00+00:00       0\n",
       "2009-03-29 00:00:00+00:00       0\n",
       "2009-04-05 00:00:00+00:00       0\n",
       "2009-04-12 00:00:00+00:00       0\n",
       "2009-04-19 00:00:00+00:00       0\n",
       "2009-04-26 00:00:00+00:00       0\n",
       "2009-05-03 00:00:00+00:00       3\n",
       "2009-05-10 00:00:00+00:00       0\n",
       "2009-05-17 00:00:00+00:00       0\n",
       "2009-05-24 00:00:00+00:00       1\n",
       "2009-05-31 00:00:00+00:00      11\n",
       "2009-06-07 00:00:00+00:00      13\n",
       "2009-06-14 00:00:00+00:00      10\n",
       "2009-06-21 00:00:00+00:00      11\n",
       "2009-06-28 00:00:00+00:00       3\n",
       "2009-07-05 00:00:00+00:00       3\n",
       "2009-07-12 00:00:00+00:00       5\n",
       "2009-07-19 00:00:00+00:00       7\n",
       "2009-07-26 00:00:00+00:00       8\n",
       "2009-08-02 00:00:00+00:00      56\n",
       "2009-08-09 00:00:00+00:00     743\n",
       "2009-08-16 00:00:00+00:00    2466\n",
       "2009-08-23 00:00:00+00:00     184\n",
       "2009-08-30 00:00:00+00:00     199\n",
       "2009-09-06 00:00:00+00:00     211\n",
       "2009-09-13 00:00:00+00:00     329\n",
       "2009-09-20 00:00:00+00:00     247\n",
       "2009-09-27 00:00:00+00:00     187\n",
       "2009-10-04 00:00:00+00:00     153\n",
       "2009-10-11 00:00:00+00:00     257\n",
       "2009-10-18 00:00:00+00:00     176\n",
       "2009-10-25 00:00:00+00:00     315\n",
       "2009-11-01 00:00:00+00:00     521\n",
       "2009-11-08 00:00:00+00:00     496\n",
       "2009-11-15 00:00:00+00:00     577\n",
       "2009-11-22 00:00:00+00:00     579\n",
       "2009-11-29 00:00:00+00:00     499\n",
       "2009-12-06 00:00:00+00:00     616\n",
       "2009-12-13 00:00:00+00:00     790\n",
       "2009-12-20 00:00:00+00:00     764\n",
       "2009-12-27 00:00:00+00:00     612\n",
       "2010-01-03 00:00:00+00:00     455\n",
       "2010-01-10 00:00:00+00:00     980\n",
       "2010-01-17 00:00:00+00:00    1026\n",
       "2010-01-24 00:00:00+00:00     795\n",
       "Freq: W-SUN, dtype: int64"
      ]
     },
     "execution_count": 298,
     "metadata": {},
     "output_type": "execute_result"
    }
   ],
   "source": [
    "#per week\n",
    "weekly_counts = data.resample('W').size()\n",
    "weekly_counts.head(50)"
   ]
  },
  {
   "cell_type": "code",
   "execution_count": 299,
   "id": "636e1742-eae1-44a2-8236-fc6c2570677a",
   "metadata": {},
   "outputs": [
    {
     "data": {
      "image/png": "[encoded data removed]",
      "text/plain": [
       "<Figure size 600x600 with 1 Axes>"
      ]
     },
     "metadata": {},
     "output_type": "display_data"
    }
   ],
   "source": [
    "# Plot weekly publication counts\n",
    "plt.figure(figsize=(6, 6))\n",
    "daily_counts.plot(kind='line')\n",
    "plt.xlabel('date')\n",
    "plt.ylabel('number of Articles')\n",
    "plt.grid(True)\n",
    "plt.show()"
   ]
  },
  {
   "cell_type": "code",
   "execution_count": 301,
   "id": "e8c257ea-72f5-421e-9518-4c9bd55e1c3b",
   "metadata": {
    "scrolled": true
   },
   "outputs": [
    {
     "name": "stderr",
     "output_type": "stream",
     "text": [
      "/var/folders/v_/hr6j_dwj5dq5tjppg8dm5xt80000gn/T/ipykernel_37856/2966946573.py:2: FutureWarning: 'M' is deprecated and will be removed in a future version, please use 'ME' instead.\n",
      "  monthly_counts = data.resample('M').size()\n"
     ]
    },
    {
     "data": {
      "text/plain": [
       "date\n",
       "2009-02-28 00:00:00+00:00        1\n",
       "2009-03-31 00:00:00+00:00        0\n",
       "2009-04-30 00:00:00+00:00        3\n",
       "2009-05-31 00:00:00+00:00       12\n",
       "2009-06-30 00:00:00+00:00       40\n",
       "2009-07-31 00:00:00+00:00       75\n",
       "2009-08-31 00:00:00+00:00     3633\n",
       "2009-09-30 00:00:00+00:00     1023\n",
       "2009-10-31 00:00:00+00:00     1330\n",
       "2009-11-30 00:00:00+00:00     2262\n",
       "2009-12-31 00:00:00+00:00     3110\n",
       "2010-01-31 00:00:00+00:00     3807\n",
       "2010-02-28 00:00:00+00:00     4130\n",
       "2010-03-31 00:00:00+00:00     4739\n",
       "2010-04-30 00:00:00+00:00     4007\n",
       "2010-05-31 00:00:00+00:00     5098\n",
       "2010-06-30 00:00:00+00:00     4707\n",
       "2010-07-31 00:00:00+00:00     4958\n",
       "2010-08-31 00:00:00+00:00     7481\n",
       "2010-09-30 00:00:00+00:00     8098\n",
       "2010-10-31 00:00:00+00:00     8581\n",
       "2010-11-30 00:00:00+00:00    11516\n",
       "2010-12-31 00:00:00+00:00    14197\n",
       "2011-01-31 00:00:00+00:00    14307\n",
       "2011-02-28 00:00:00+00:00     8250\n",
       "2011-03-31 00:00:00+00:00     8901\n",
       "2011-04-30 00:00:00+00:00    10583\n",
       "2011-05-31 00:00:00+00:00    12275\n",
       "2011-06-30 00:00:00+00:00    11563\n",
       "2011-07-31 00:00:00+00:00    13573\n",
       "2011-08-31 00:00:00+00:00    12728\n",
       "2011-09-30 00:00:00+00:00     8313\n",
       "2011-10-31 00:00:00+00:00    10714\n",
       "2011-11-30 00:00:00+00:00    10848\n",
       "2011-12-31 00:00:00+00:00     9267\n",
       "2012-01-31 00:00:00+00:00    10529\n",
       "2012-02-29 00:00:00+00:00    11708\n",
       "2012-03-31 00:00:00+00:00    10441\n",
       "2012-04-30 00:00:00+00:00    10674\n",
       "2012-05-31 00:00:00+00:00    11162\n",
       "2012-06-30 00:00:00+00:00     9249\n",
       "2012-07-31 00:00:00+00:00    10763\n",
       "2012-08-31 00:00:00+00:00    10316\n",
       "2012-09-30 00:00:00+00:00     8094\n",
       "2012-10-31 00:00:00+00:00    11486\n",
       "2012-11-30 00:00:00+00:00    10116\n",
       "2012-12-31 00:00:00+00:00     8111\n",
       "2013-01-31 00:00:00+00:00    10838\n",
       "2013-02-28 00:00:00+00:00    10945\n",
       "2013-03-31 00:00:00+00:00    10343\n",
       "Freq: ME, dtype: int64"
      ]
     },
     "execution_count": 301,
     "metadata": {},
     "output_type": "execute_result"
    }
   ],
   "source": [
    "#per month\n",
    "monthly_counts = data.resample('M').size()\n",
    "monthly_counts.head(50)"
   ]
  },
  {
   "cell_type": "code",
   "execution_count": 303,
   "id": "bc268d91-c4fd-476e-8004-555cdf0a585a",
   "metadata": {},
   "outputs": [
    {
     "data": {
      "image/png": "[encoded data removed]",
      "text/plain": [
       "<Figure size 600x600 with 1 Axes>"
      ]
     },
     "metadata": {},
     "output_type": "display_data"
    }
   ],
   "source": [
    "# Plot monthly publication counts\n",
    "plt.figure(figsize=(6, 6))\n",
    "daily_counts.plot(kind='line')\n",
    "plt.xlabel('date')\n",
    "plt.ylabel('number of Articles')\n",
    "plt.grid(True)\n",
    "plt.show()"
   ]
  },
  {
   "cell_type": "markdown",
   "id": "4ba4f9db-15c7-4cad-b074-4e9379ab2c94",
   "metadata": {},
   "source": [
    "# Text Analysis(Sentiment analysis & Topic Modeling)"
   ]
  },
  {
   "cell_type": "code",
   "execution_count": 502,
   "id": "313fb3b9-92b4-4e3b-acfa-992f71346a78",
   "metadata": {},
   "outputs": [],
   "source": [
    "#Perform sentiment analysis on headlines"
   ]
  },
  {
   "cell_type": "code",
   "execution_count": 504,
   "id": "d84623b7-9899-4425-a64c-c19a341ef915",
   "metadata": {},
   "outputs": [],
   "source": [
    "# sentiment analysis:- we use vader here that provides compound score(normalized value that comprehend sentiments)"
   ]
  },
  {
   "cell_type": "code",
   "execution_count": 506,
   "id": "af504b97-26e0-47be-a2b4-8462af3e2397",
   "metadata": {},
   "outputs": [],
   "source": [
    "sia = SentimentIntensityAnalyzer() #initialize the SIA"
   ]
  },
  {
   "cell_type": "code",
   "execution_count": 508,
   "id": "8bc51883-a2df-4d0b-a9c6-7b720534fdb1",
   "metadata": {},
   "outputs": [],
   "source": [
    "# Function to classify sentiment\n",
    "def get_sentiment(score):\n",
    "    if score > 0.05:\n",
    "        return 'Positive'\n",
    "    elif score < -0.05:\n",
    "        return 'Negative'\n",
    "    else:\n",
    "        return 'Neutral'"
   ]
  },
  {
   "cell_type": "code",
   "execution_count": 510,
   "id": "636fd67b-7df9-4127-9a98-1e489ac40be4",
   "metadata": {},
   "outputs": [],
   "source": [
    "# Convert all headlines to strings\n",
    "data['headline'] = data['headline'].astype(str)"
   ]
  },
  {
   "cell_type": "code",
   "execution_count": 512,
   "id": "fa7c51fb-46a1-4195-ac83-c310f3af4d58",
   "metadata": {},
   "outputs": [],
   "source": [
    "data['sentiment_score'] = data['headline'].apply(lambda x: sia.polarity_scores(x)['compound'])\n",
    "data['sentiment'] = data['sentiment_score'].apply(get_sentiment)"
   ]
  },
  {
   "cell_type": "code",
   "execution_count": 514,
   "id": "23826a36-957e-48c1-9383-a3fe51c99bc7",
   "metadata": {},
   "outputs": [
    {
     "data": {
      "text/html": [
       "<div>\n",
       "<style scoped>\n",
       "    .dataframe tbody tr th:only-of-type {\n",
       "        vertical-align: middle;\n",
       "    }\n",
       "\n",
       "    .dataframe tbody tr th {\n",
       "        vertical-align: top;\n",
       "    }\n",
       "\n",
       "    .dataframe thead th {\n",
       "        text-align: right;\n",
       "    }\n",
       "</style>\n",
       "<table border=\"1\" class=\"dataframe\">\n",
       "  <thead>\n",
       "    <tr style=\"text-align: right;\">\n",
       "      <th></th>\n",
       "      <th>headline</th>\n",
       "      <th>url</th>\n",
       "      <th>publisher</th>\n",
       "      <th>date</th>\n",
       "      <th>stock</th>\n",
       "      <th>Hour</th>\n",
       "      <th>tokens</th>\n",
       "      <th>sentiment_score</th>\n",
       "      <th>sentiment</th>\n",
       "    </tr>\n",
       "  </thead>\n",
       "  <tbody>\n",
       "    <tr>\n",
       "      <th>0</th>\n",
       "      <td>stocks that hit 52-week highs on friday</td>\n",
       "      <td>https://www.benzinga.com/news/20/06/16190091/s...</td>\n",
       "      <td>Benzinga Insights</td>\n",
       "      <td>2020-06-05 14:30:54+00:00</td>\n",
       "      <td>A</td>\n",
       "      <td>14</td>\n",
       "      <td>[stocks, hit, highs, friday]</td>\n",
       "      <td>0.0000</td>\n",
       "      <td>Neutral</td>\n",
       "    </tr>\n",
       "    <tr>\n",
       "      <th>1</th>\n",
       "      <td>stocks that hit 52-week highs on wednesday</td>\n",
       "      <td>https://www.benzinga.com/news/20/06/16170189/s...</td>\n",
       "      <td>Benzinga Insights</td>\n",
       "      <td>2020-06-03 14:45:20+00:00</td>\n",
       "      <td>A</td>\n",
       "      <td>14</td>\n",
       "      <td>[stocks, hit, highs, wednesday]</td>\n",
       "      <td>0.0000</td>\n",
       "      <td>Neutral</td>\n",
       "    </tr>\n",
       "    <tr>\n",
       "      <th>2</th>\n",
       "      <td>71 biggest movers from friday</td>\n",
       "      <td>https://www.benzinga.com/news/20/05/16103463/7...</td>\n",
       "      <td>Lisa Levin</td>\n",
       "      <td>2020-05-26 08:30:07+00:00</td>\n",
       "      <td>A</td>\n",
       "      <td>8</td>\n",
       "      <td>[biggest, movers, friday]</td>\n",
       "      <td>0.0000</td>\n",
       "      <td>Neutral</td>\n",
       "    </tr>\n",
       "    <tr>\n",
       "      <th>3</th>\n",
       "      <td>46 stocks moving in friday's mid-day session</td>\n",
       "      <td>https://www.benzinga.com/news/20/05/16095921/4...</td>\n",
       "      <td>Lisa Levin</td>\n",
       "      <td>2020-05-22 16:45:06+00:00</td>\n",
       "      <td>A</td>\n",
       "      <td>16</td>\n",
       "      <td>[stocks, moving, friday, session]</td>\n",
       "      <td>0.0000</td>\n",
       "      <td>Neutral</td>\n",
       "    </tr>\n",
       "    <tr>\n",
       "      <th>4</th>\n",
       "      <td>b of a securities maintains neutral on agilent...</td>\n",
       "      <td>https://www.benzinga.com/news/20/05/16095304/b...</td>\n",
       "      <td>Vick Meyer</td>\n",
       "      <td>2020-05-22 15:38:59+00:00</td>\n",
       "      <td>A</td>\n",
       "      <td>15</td>\n",
       "      <td>[b, securities, maintains, neutral, agilent, t...</td>\n",
       "      <td>0.2960</td>\n",
       "      <td>Positive</td>\n",
       "    </tr>\n",
       "    <tr>\n",
       "      <th>...</th>\n",
       "      <td>...</td>\n",
       "      <td>...</td>\n",
       "      <td>...</td>\n",
       "      <td>...</td>\n",
       "      <td>...</td>\n",
       "      <td>...</td>\n",
       "      <td>...</td>\n",
       "      <td>...</td>\n",
       "      <td>...</td>\n",
       "    </tr>\n",
       "    <tr>\n",
       "      <th>1407323</th>\n",
       "      <td>top narrow based indexes for august 29</td>\n",
       "      <td>https://www.benzinga.com/news/11/08/1888782/to...</td>\n",
       "      <td>Monica Gerson</td>\n",
       "      <td>2011-08-29 00:00:00+00:00</td>\n",
       "      <td>ZX</td>\n",
       "      <td>0</td>\n",
       "      <td>[top, narrow, based, indexes, august]</td>\n",
       "      <td>0.2023</td>\n",
       "      <td>Positive</td>\n",
       "    </tr>\n",
       "    <tr>\n",
       "      <th>1407324</th>\n",
       "      <td>recap: wednesday's top percentage gainers and ...</td>\n",
       "      <td>https://www.benzinga.com/news/earnings/11/06/1...</td>\n",
       "      <td>Benjamin Lee</td>\n",
       "      <td>2011-06-22 00:00:00+00:00</td>\n",
       "      <td>ZX</td>\n",
       "      <td>0</td>\n",
       "      <td>[recap, wednesday, top, percentage, gainers, l...</td>\n",
       "      <td>-0.3818</td>\n",
       "      <td>Negative</td>\n",
       "    </tr>\n",
       "    <tr>\n",
       "      <th>1407325</th>\n",
       "      <td>update: oppenheimer color on china zenix auto ...</td>\n",
       "      <td>https://www.benzinga.com/analyst-ratings/analy...</td>\n",
       "      <td>BenzingaStaffL</td>\n",
       "      <td>2011-06-21 00:00:00+00:00</td>\n",
       "      <td>ZX</td>\n",
       "      <td>0</td>\n",
       "      <td>[update, oppenheimer, color, china, zenix, aut...</td>\n",
       "      <td>0.0000</td>\n",
       "      <td>Neutral</td>\n",
       "    </tr>\n",
       "    <tr>\n",
       "      <th>1407326</th>\n",
       "      <td>oppenheimer initiates china zenix at outperfor...</td>\n",
       "      <td>https://www.benzinga.com/analyst-ratings/price...</td>\n",
       "      <td>Joe Young</td>\n",
       "      <td>2011-06-21 00:00:00+00:00</td>\n",
       "      <td>ZX</td>\n",
       "      <td>0</td>\n",
       "      <td>[oppenheimer, initiates, china, zenix, outperf...</td>\n",
       "      <td>0.0000</td>\n",
       "      <td>Neutral</td>\n",
       "    </tr>\n",
       "    <tr>\n",
       "      <th>1407327</th>\n",
       "      <td>china zenix auto international opens for tradi...</td>\n",
       "      <td>https://www.benzinga.com/news/ipos/11/05/10789...</td>\n",
       "      <td>Allie Wickman</td>\n",
       "      <td>2011-05-12 00:00:00+00:00</td>\n",
       "      <td>ZX</td>\n",
       "      <td>0</td>\n",
       "      <td>[china, zenix, auto, international, opens, tra...</td>\n",
       "      <td>0.0000</td>\n",
       "      <td>Neutral</td>\n",
       "    </tr>\n",
       "  </tbody>\n",
       "</table>\n",
       "<p>1407328 rows × 9 columns</p>\n",
       "</div>"
      ],
      "text/plain": [
       "                                                  headline  \\\n",
       "0                  stocks that hit 52-week highs on friday   \n",
       "1               stocks that hit 52-week highs on wednesday   \n",
       "2                            71 biggest movers from friday   \n",
       "3             46 stocks moving in friday's mid-day session   \n",
       "4        b of a securities maintains neutral on agilent...   \n",
       "...                                                    ...   \n",
       "1407323             top narrow based indexes for august 29   \n",
       "1407324  recap: wednesday's top percentage gainers and ...   \n",
       "1407325  update: oppenheimer color on china zenix auto ...   \n",
       "1407326  oppenheimer initiates china zenix at outperfor...   \n",
       "1407327  china zenix auto international opens for tradi...   \n",
       "\n",
       "                                                       url          publisher  \\\n",
       "0        https://www.benzinga.com/news/20/06/16190091/s...  Benzinga Insights   \n",
       "1        https://www.benzinga.com/news/20/06/16170189/s...  Benzinga Insights   \n",
       "2        https://www.benzinga.com/news/20/05/16103463/7...         Lisa Levin   \n",
       "3        https://www.benzinga.com/news/20/05/16095921/4...         Lisa Levin   \n",
       "4        https://www.benzinga.com/news/20/05/16095304/b...         Vick Meyer   \n",
       "...                                                    ...                ...   \n",
       "1407323  https://www.benzinga.com/news/11/08/1888782/to...      Monica Gerson   \n",
       "1407324  https://www.benzinga.com/news/earnings/11/06/1...       Benjamin Lee   \n",
       "1407325  https://www.benzinga.com/analyst-ratings/analy...     BenzingaStaffL   \n",
       "1407326  https://www.benzinga.com/analyst-ratings/price...          Joe Young   \n",
       "1407327  https://www.benzinga.com/news/ipos/11/05/10789...      Allie Wickman   \n",
       "\n",
       "                             date stock  Hour  \\\n",
       "0       2020-06-05 14:30:54+00:00     A    14   \n",
       "1       2020-06-03 14:45:20+00:00     A    14   \n",
       "2       2020-05-26 08:30:07+00:00     A     8   \n",
       "3       2020-05-22 16:45:06+00:00     A    16   \n",
       "4       2020-05-22 15:38:59+00:00     A    15   \n",
       "...                           ...   ...   ...   \n",
       "1407323 2011-08-29 00:00:00+00:00    ZX     0   \n",
       "1407324 2011-06-22 00:00:00+00:00    ZX     0   \n",
       "1407325 2011-06-21 00:00:00+00:00    ZX     0   \n",
       "1407326 2011-06-21 00:00:00+00:00    ZX     0   \n",
       "1407327 2011-05-12 00:00:00+00:00    ZX     0   \n",
       "\n",
       "                                                    tokens  sentiment_score  \\\n",
       "0                             [stocks, hit, highs, friday]           0.0000   \n",
       "1                          [stocks, hit, highs, wednesday]           0.0000   \n",
       "2                                [biggest, movers, friday]           0.0000   \n",
       "3                        [stocks, moving, friday, session]           0.0000   \n",
       "4        [b, securities, maintains, neutral, agilent, t...           0.2960   \n",
       "...                                                    ...              ...   \n",
       "1407323              [top, narrow, based, indexes, august]           0.2023   \n",
       "1407324  [recap, wednesday, top, percentage, gainers, l...          -0.3818   \n",
       "1407325  [update, oppenheimer, color, china, zenix, aut...           0.0000   \n",
       "1407326  [oppenheimer, initiates, china, zenix, outperf...           0.0000   \n",
       "1407327  [china, zenix, auto, international, opens, tra...           0.0000   \n",
       "\n",
       "        sentiment  \n",
       "0         Neutral  \n",
       "1         Neutral  \n",
       "2         Neutral  \n",
       "3         Neutral  \n",
       "4        Positive  \n",
       "...           ...  \n",
       "1407323  Positive  \n",
       "1407324  Negative  \n",
       "1407325   Neutral  \n",
       "1407326   Neutral  \n",
       "1407327   Neutral  \n",
       "\n",
       "[1407328 rows x 9 columns]"
      ]
     },
     "execution_count": 514,
     "metadata": {},
     "output_type": "execute_result"
    }
   ],
   "source": [
    "data"
   ]
  },
  {
   "cell_type": "code",
   "execution_count": 516,
   "id": "0b10dd0c-6110-4c1b-a141-a4d7f4adc951",
   "metadata": {},
   "outputs": [],
   "source": [
    "#NLP for to identify common keywords."
   ]
  },
  {
   "cell_type": "code",
   "execution_count": 518,
   "id": "7a671b6f-1baf-4566-a2ad-a1783f367dd0",
   "metadata": {},
   "outputs": [],
   "source": [
    "#Preprocess the Headlines\n",
    "# this convert headlines to lowercase, tokenize, and remove stopwords:"
   ]
  },
  {
   "cell_type": "code",
   "execution_count": 519,
   "id": "02c15694-1410-476b-a018-fbc3a459f477",
   "metadata": {},
   "outputs": [],
   "source": [
    "# Convert headlines to lowercase\n",
    "data['headline'] = data['headline'].str.lower()"
   ]
  },
  {
   "cell_type": "code",
   "execution_count": 520,
   "id": "567b2a40-5ae2-4c04-b1a2-09d08beb52c3",
   "metadata": {},
   "outputs": [],
   "source": [
    "# Tokenize headlines\n",
    "data['tokens'] = data['headline'].apply(word_tokenize)"
   ]
  },
  {
   "cell_type": "code",
   "execution_count": 521,
   "id": "0b45efda-ece0-4972-b98e-a68e3d5d66ab",
   "metadata": {},
   "outputs": [],
   "source": [
    "# Remove stopwords\n",
    "stop_words = set(stopwords.words('english'))\n",
    "data['tokens'] = data['tokens'].apply(lambda x: [word for word in x if word.isalpha() and word not in stop_words])"
   ]
  },
  {
   "cell_type": "code",
   "execution_count": 522,
   "id": "fd24e29a-9869-41ef-aa38-cc14387f73d2",
   "metadata": {},
   "outputs": [
    {
     "name": "stdout",
     "output_type": "stream",
     "text": [
      "                                                  headline  \\\n",
      "0                  stocks that hit 52-week highs on friday   \n",
      "1               stocks that hit 52-week highs on wednesday   \n",
      "2                            71 biggest movers from friday   \n",
      "3             46 stocks moving in friday's mid-day session   \n",
      "4        b of a securities maintains neutral on agilent...   \n",
      "...                                                    ...   \n",
      "1407323             top narrow based indexes for august 29   \n",
      "1407324  recap: wednesday's top percentage gainers and ...   \n",
      "1407325  update: oppenheimer color on china zenix auto ...   \n",
      "1407326  oppenheimer initiates china zenix at outperfor...   \n",
      "1407327  china zenix auto international opens for tradi...   \n",
      "\n",
      "                                                    tokens  \n",
      "0                             [stocks, hit, highs, friday]  \n",
      "1                          [stocks, hit, highs, wednesday]  \n",
      "2                                [biggest, movers, friday]  \n",
      "3                        [stocks, moving, friday, session]  \n",
      "4        [b, securities, maintains, neutral, agilent, t...  \n",
      "...                                                    ...  \n",
      "1407323              [top, narrow, based, indexes, august]  \n",
      "1407324  [recap, wednesday, top, percentage, gainers, l...  \n",
      "1407325  [update, oppenheimer, color, china, zenix, aut...  \n",
      "1407326  [oppenheimer, initiates, china, zenix, outperf...  \n",
      "1407327  [china, zenix, auto, international, opens, tra...  \n",
      "\n",
      "[1407328 rows x 2 columns]\n"
     ]
    }
   ],
   "source": [
    " #Display the DataFrame with tokens\n",
    "print(data[['headline', 'tokens']])"
   ]
  },
  {
   "cell_type": "code",
   "execution_count": 523,
   "id": "e16e1e0b-ef52-4e99-88b1-3efc73f55196",
   "metadata": {},
   "outputs": [],
   "source": [
    "#Identify Common Keywords\n",
    "#Use word frequency to find the most common words in the headlines:"
   ]
  },
  {
   "cell_type": "code",
   "execution_count": 524,
   "id": "4fbcb577-704a-4b3a-bb14-ca5b6eb96905",
   "metadata": {},
   "outputs": [],
   "source": [
    "# Flatten the list of tokens to count word frequency\n",
    "all_words = [word for tokens in data['tokens'] for word in tokens]\n",
    "word_freq = Counter(all_words)"
   ]
  },
  {
   "cell_type": "code",
   "execution_count": 525,
   "id": "05e09b0d-4a7f-4d9f-8c26-2c4f9a2615fa",
   "metadata": {},
   "outputs": [
    {
     "name": "stdout",
     "output_type": "stream",
     "text": [
      "[('stocks', 161702), ('vs', 138835), ('eps', 128801), ('est', 122289), ('shares', 114140), ('reports', 108688), ('update', 91645), ('market', 91080), ('earnings', 87183), ('sales', 79528)]\n"
     ]
    }
   ],
   "source": [
    "# Display the most common keywords\n",
    "common_keywords = word_freq.most_common(10)\n",
    "print(common_keywords)"
   ]
  },
  {
   "cell_type": "code",
   "execution_count": 526,
   "id": "9c29f63d-ebce-4cd5-8f4b-a695d355b60a",
   "metadata": {},
   "outputs": [],
   "source": [
    "#Extract Common Phrases (Bigrams)\n",
    "#Use bigrams to identify common two-word phrases:"
   ]
  },
  {
   "cell_type": "code",
   "execution_count": 527,
   "id": "3911635d-6fab-41e2-8bd8-10ad5cfcc1b1",
   "metadata": {},
   "outputs": [],
   "source": [
    "# Generate bigrams (2-word phrases)\n",
    "bigrams = [bigram for tokens in data['tokens'] for bigram in ngrams(tokens, 2)]"
   ]
  },
  {
   "cell_type": "code",
   "execution_count": null,
   "id": "a19f491b-3a87-4055-864a-e54f6e2fa475",
   "metadata": {},
   "outputs": [],
   "source": [
    "# Count frequency of bigrams\n",
    "bigram_freq = Counter(bigrams)\n"
   ]
  },
  {
   "cell_type": "code",
   "execution_count": null,
   "id": "c75e7fa8-98e7-4c50-a482-4011e4946794",
   "metadata": {},
   "outputs": [],
   "source": [
    "common_bigrams = bigram_freq.most_common(10)\n",
    "print(common_bigrams)"
   ]
  },
  {
   "cell_type": "code",
   "execution_count": null,
   "id": "bccfb233-125e-47cf-be12-ed9520df0083",
   "metadata": {},
   "outputs": [],
   "source": [
    "# Generate trigrams (3-word phrases)\n",
    "trigrams = [trigram for tokens in data['tokens'] for trigram in ngrams(tokens, 3)]"
   ]
  },
  {
   "cell_type": "code",
   "execution_count": null,
   "id": "5da6a6e4-3704-4aab-be4a-c728801c4b40",
   "metadata": {},
   "outputs": [],
   "source": [
    "# Count frequency of trigrams\n",
    "trigram_freq = Counter(trigrams)"
   ]
  },
  {
   "cell_type": "code",
   "execution_count": null,
   "id": "f60d7b3f-3fa2-4a70-8f57-e3472d8e9769",
   "metadata": {},
   "outputs": [],
   "source": [
    "common_trigrams = trigram_freq.most_common(10)\n",
    "print(common_trigrams)"
   ]
  },
  {
   "cell_type": "markdown",
   "id": "3d81e8a3-4245-4da4-8c9c-89836d843d7d",
   "metadata": {},
   "source": [
    "# Time Series Analysis:"
   ]
  },
  {
   "cell_type": "code",
   "execution_count": 357,
   "id": "0cdc42e3-044e-49f9-9d32-640baaef22f9",
   "metadata": {},
   "outputs": [],
   "source": [
    "data['date'] = pd.to_datetime(data['date'])"
   ]
  },
  {
   "cell_type": "code",
   "execution_count": 373,
   "id": "9b9b2528-b0eb-457f-9f85-2487e4468f06",
   "metadata": {},
   "outputs": [],
   "source": [
    "# Resample based on the correct timestamp column\n",
    "publication_counts = data.resample('D', on='date').count()['headline']"
   ]
  },
  {
   "cell_type": "code",
   "execution_count": 378,
   "id": "8aafb085-1438-417c-9e4a-90ab48495bc2",
   "metadata": {},
   "outputs": [
    {
     "data": {
      "image/png": "[encoded data removed]",
      "text/plain": [
       "<Figure size 800x600 with 1 Axes>"
      ]
     },
     "metadata": {},
     "output_type": "display_data"
    }
   ],
   "source": [
    "# Plot the publication frequency over time\n",
    "plt.figure(figsize=(8, 6))\n",
    "plt.plot(publication_counts, label='Daily Article Count')\n",
    "plt.title('Article Publication Frequency Over Time')\n",
    "plt.xlabel('Date')\n",
    "plt.ylabel('Number of Articles')\n",
    "plt.legend()\n",
    "plt.show()"
   ]
  },
  {
   "cell_type": "code",
   "execution_count": 388,
   "id": "1ad01851-920b-4505-8b91-7029cfadcbe2",
   "metadata": {},
   "outputs": [
    {
     "data": {
      "image/png": "[encoded data removed]",
      "text/plain": [
       "<Figure size 1200x600 with 1 Axes>"
      ]
     },
     "metadata": {},
     "output_type": "display_data"
    }
   ],
   "source": [
    "event_dates = pd.to_datetime(['2020-06-05', '2011-08-29'])  # Add actual dates\n",
    "\n",
    "# Overlay events on the plot\n",
    "plt.figure(figsize=(12, 6))\n",
    "plt.plot(publication_counts, label='Daily Article Count')\n",
    "for event_date in event_dates:\n",
    "    plt.axvline(event_date, color='red', linestyle='--', label=f'Event on {event_date.date()}')\n",
    "plt.title(' Publication f Over Time with Market Events')\n",
    "plt.xlabel('date')\n",
    "plt.ylabel('number of Articles')\n",
    "plt.legend()\n",
    "plt.show()\n"
   ]
  },
  {
   "cell_type": "code",
   "execution_count": null,
   "id": "9bf66b4e-d7a9-4744-a21a-0c6849b8ecbf",
   "metadata": {},
   "outputs": [],
   "source": [
    "#Analysis of publishing times"
   ]
  },
  {
   "cell_type": "code",
   "execution_count": 393,
   "id": "ed6a691e-1094-499d-a03d-322105bd379f",
   "metadata": {},
   "outputs": [],
   "source": [
    "data['date'] = pd.to_datetime(data['date'])"
   ]
  },
  {
   "cell_type": "code",
   "execution_count": 397,
   "id": "cc7a84e7-b65f-477a-be85-2565a40b3dfe",
   "metadata": {},
   "outputs": [],
   "source": [
    "# Extract the hour from the timestamp\n",
    "data['Hour'] = data['date'].dt.hour"
   ]
  },
  {
   "cell_type": "code",
   "execution_count": 399,
   "id": "e91f209a-a673-4dc0-a54f-48eca5cce0cc",
   "metadata": {},
   "outputs": [],
   "source": [
    "# Count the number of articles published at each hour\n",
    "hourly_counts = data['Hour'].value_counts().sort_index()"
   ]
  },
  {
   "cell_type": "code",
   "execution_count": 401,
   "id": "9d3fbaba-2a55-4dc8-90a5-c3f8690af141",
   "metadata": {},
   "outputs": [
    {
     "data": {
      "image/png": "[encoded data removed]",
      "text/plain": [
       "<Figure size 1000x600 with 1 Axes>"
      ]
     },
     "metadata": {},
     "output_type": "display_data"
    }
   ],
   "source": [
    "# Plot the distribution of article publications by hour\n",
    "plt.figure(figsize=(10, 6))\n",
    "plt.bar(hourly_counts.index, hourly_counts.values, color='skyblue')\n",
    "plt.title('Distribution of Article Publications by Hour')\n",
    "plt.xlabel('Hour of the Day')\n",
    "plt.ylabel('Number of Articles')\n",
    "plt.xticks(range(0, 24))  # Ensuring all hours are labeled on the x-axis\n",
    "plt.grid(True)\n",
    "plt.show()"
   ]
  },
  {
   "cell_type": "markdown",
   "id": "874f809d-cd84-417c-a3e6-b81fef07dcbc",
   "metadata": {},
   "source": [
    "# Publisher Analysis:"
   ]
  },
  {
   "cell_type": "code",
   "execution_count": 403,
   "id": "f96d31ae-41cb-409c-8635-7da3180a2cb2",
   "metadata": {},
   "outputs": [
    {
     "data": {
      "image/png": "[encoded data removed]",
      "text/plain": [
       "<Figure size 1200x600 with 1 Axes>"
      ]
     },
     "metadata": {},
     "output_type": "display_data"
    }
   ],
   "source": [
    "# Assuming your data has a 'Publisher' column\n",
    "publisher_counts = data['publisher'].value_counts()\n",
    "\n",
    "# Plot the top publishers by number of articles\n",
    "plt.figure(figsize=(12, 6))\n",
    "publisher_counts.head(10).plot(kind='bar', color='orange')\n",
    "plt.title('Top 10 Publishers by Number of Articles')\n",
    "plt.xlabel('Publisher')\n",
    "plt.ylabel('Number of Articles')\n",
    "plt.xticks(rotation=45)\n",
    "plt.show()"
   ]
  },
  {
   "cell_type": "code",
   "execution_count": 423,
   "id": "05132dfb-4038-4974-ad5c-162eae78d28d",
   "metadata": {},
   "outputs": [],
   "source": [
    "# Assuming your data has 'Publisher' and 'Category' columns\n",
    "content_by_publisher = data.groupby(['Publisher', 'Category']).size().unstack(fill_value=0)\n",
    "\n",
    "# Normalize by the total number of articles per publisher to compare proportions\n",
    "content_by_publisher_norm = content_by_publisher.div(content_by_publisher.sum(axis=1), axis=0)\n",
    "\n",
    "# Plotting the distribution for the top publishers\n",
    "top_publishers = content_by_publisher_norm.sum(axis=1).nlargest(5).index  # Adjust as needed\n",
    "\n",
    "content_by_publisher_norm.loc[top_publishers].plot(kind='bar', stacked=True, figsize=(12, 6))\n",
    "plt.title('Distribution of Article Types by Top Publishers')\n",
    "plt.xlabel('Publisher')\n",
    "plt.ylabel('Proportion of Articles')\n",
    "plt.xticks(rotation=45)\n",
    "plt.legend(title='Category')\n",
    "plt.show()\n"
   ]
  },
  {
   "cell_type": "code",
   "execution_count": null,
   "id": "aa3b311a-c275-4b6f-8b43-b26ba4011b29",
   "metadata": {},
   "outputs": [],
   "source": []
  },
  {
   "cell_type": "code",
   "execution_count": null,
   "id": "55e249e9-c467-48c6-8527-55599a44ce70",
   "metadata": {},
   "outputs": [],
   "source": []
  }
 ],
 "metadata": {
  "kernelspec": {
   "display_name": "Python 3 (ipykernel)",
   "language": "python",
   "name": "python3"
  },
  "language_info": {
   "codemirror_mode": {
    "name": "ipython",
    "version": 3
   },
   "file_extension": ".py",
   "mimetype": "text/x-python",
   "name": "python",
   "nbconvert_exporter": "python",
   "pygments_lexer": "ipython3",
   "version": "3.12.4"
  }
 },
 "nbformat": 4,
 "nbformat_minor": 5
}
